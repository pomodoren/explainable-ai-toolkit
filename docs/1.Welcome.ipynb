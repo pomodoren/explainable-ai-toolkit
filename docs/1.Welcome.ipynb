{
 "cells": [
  {
   "cell_type": "markdown",
   "id": "2f57a757-1369-4030-89c1-6c6a8662f69f",
   "metadata": {},
   "source": [
    "# Welcome\n",
    "\n"
   ]
  },
  {
   "cell_type": "markdown",
   "id": "716018ce-1c12-4e30-ac85-5d1eda42632c",
   "metadata": {},
   "source": [
    "\n",
    "What we are generally working on, be it business or research, is a problem that tends to have multiple moving parts. Often times we want a solution, and lately it is more fashionable to integrate AI in the workflow, to make it much simpler the user experience.\n",
    "\n",
    "![Dabababa](../imgs/05-why-os-ai.png)\n"
   ]
  },
  {
   "cell_type": "markdown",
   "id": "7e0fcafd-c7d3-4948-8f4c-321578bfa08b",
   "metadata": {},
   "source": [
    "<br><br>\n",
    "\n",
    "## 1. Open Standards\n",
    "\n",
    "\n",
    "**How good is good?**\n",
    "\n",
    "A colleague of mine shared the principle that what is **almost right** is much problematic than what is **visibly wrong** - mainly because in the first case you will not look for the correct solution. So, it makes quite a bit of sense to understand the context of the problem, the existing tools that already have solved it, and how would the mistake look like?\n",
    "\n",
    "<br>\n",
    "\n",
    "**Dealing with almost right**\n",
    "\n",
    "For each field that one wants to digitalize, there are existing standards that one has to understand. Often times they are very dependent on the context one is working, but sometimes they are also based on legacy-processes that mess up with the workflow that you might want to deal with today. Still, its always safer to reproduce previous results.\n",
    "\n",
    "<br><br>\n",
    "\n",
    "\n",
    "| Data standards for Transport. | Data standards for Alzheimer according to ADNI. | \n",
    "|---| --|\n",
    "| <img width=900px class=\"center-block\"  src=\"../imgs/data-standard-transport.png\"> | <img width=1000px class=\"center-block\" src=\"../imgs/data-standard-neuroscience.png\"> | \n",
    "\n"
   ]
  },
  {
   "cell_type": "markdown",
   "id": "e549ab09-129c-4533-a8ae-7b588c3edb1e",
   "metadata": {},
   "source": [
    "<br><br>\n",
    "\n",
    "## 2. Open Datasets\n",
    "\n",
    "Open data means that datasets are freely available for anyone to access, use, and share — often under licenses like **CC-BY** or **Open Data Commons**. In science and engineering, open datasets:\n",
    "- Enable reproducibility,\n",
    "- Democratize access to high-quality information,\n",
    "- Help communities build shared explainable models.\n",
    "\n",
    "<br>\n",
    "\n",
    "**Most ACCURATE/ADVANCED protocol!**\n",
    "\n",
    "Whenever working on a project, especially when dealing with experts of other fields it is often the case that they can swear that they are working on the most advanced protocols there are, and they are doing the best. They might be doing that, but often times in case that this is not documented to a very detailed level, one cannot fully describe the conditions.\n",
    "\n",
    "<br><br>\n",
    "\n",
    "\n",
    "\n",
    "| OpenNeuro, neuroscience datasets of different formats, together with protocols and a lot of patient specifications. | OpenStreetMap, best dataset for open, reviewed, reusable dataset/map, with revieweable data for each city. | \n",
    "|---| --|\n",
    "| <img width=900px class=\"center-block\"  src=\"../imgs/neuro-openmri.png\"> | <img width=1000px class=\"center-block\" src=\"../imgs/osm-prishtina.png\"> | \n",
    "| **NACC dataset, Dementia dataset used in my master's thesis - very good resource to understand patient protocols.** | **OpenRouteService with OSM - a map of how less reachable is an area after infrastructure damage given a disaster.** | \n",
    "| <img width=900px class=\"center-block\"  src=\"../imgs/neuro-nacc.png\"> | <img width=1000px class=\"center-block\" src=\"../imgs/reachability-hospitals.png\"> | \n"
   ]
  },
  {
   "cell_type": "code",
   "execution_count": null,
   "id": "e6fcf2db-dc5d-4618-b080-0b6b9b1df5c2",
   "metadata": {},
   "outputs": [],
   "source": []
  }
 ],
 "metadata": {
  "kernelspec": {
   "display_name": "Python 3 (ipykernel)",
   "language": "python",
   "name": "python3"
  },
  "language_info": {
   "codemirror_mode": {
    "name": "ipython",
    "version": 3
   },
   "file_extension": ".py",
   "mimetype": "text/x-python",
   "name": "python",
   "nbconvert_exporter": "python",
   "pygments_lexer": "ipython3",
   "version": "3.12.3"
  }
 },
 "nbformat": 4,
 "nbformat_minor": 5
}
